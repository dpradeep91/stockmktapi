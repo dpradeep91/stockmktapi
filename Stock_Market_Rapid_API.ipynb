{
  "nbformat": 4,
  "nbformat_minor": 0,
  "metadata": {
    "colab": {
      "provenance": [],
      "collapsed_sections": [
        "hSxcxaqR7FkK",
        "1UCHgMCbOj4P",
        "kQp9FMhdZ_5i",
        "42mzLUP4cagI"
      ]
    },
    "kernelspec": {
      "name": "python3",
      "display_name": "Python 3"
    },
    "language_info": {
      "name": "python"
    }
  },
  "cells": [
    {
      "cell_type": "code",
      "source": [
        "!pip install boto3\n",
        "import requests\n",
        "import json\n",
        "import boto3\n",
        "\n",
        "access_key = \"###\"\n",
        "secret_key = \"######\"\n",
        "\n",
        "sqs_client = boto3.client(\"sqs\",aws_access_key_id = str(access_key),aws_secret_access_key = str(secret_key),region_name='ap-south-1')\n",
        "queue_url = 'https://sqs.ap-south-1.amazonaws.com/992382564165/stockmarketqueue'\n",
        "\n",
        "json_list = []\n",
        "\n",
        "def stock_data():\n",
        "\turl = \"https://latest-stock-price.p.rapidapi.com/price\"\n",
        "\n",
        "\tquerystring = {\"Indices\":\"NIFTY 50\"}\n",
        "\n",
        "\theaders = {\n",
        "\t\t\"X-RapidAPI-Key\": \"####\",\n",
        "\t\t\"X-RapidAPI-Host\": \"latest-stock-price.p.rapidapi.com\"\n",
        "\t}\n",
        "\n",
        "\tresponse = requests.get(url, headers=headers, params=querystring)\n",
        "\n",
        "\tjson_list.append(response.json())\n",
        "\n",
        "\treturn response.json()\n",
        "\n",
        "\n",
        "\n",
        "#stock_data()\n"
      ],
      "metadata": {
        "id": "oBy4e19XvmK8",
        "colab": {
          "base_uri": "https://localhost:8080/"
        },
        "outputId": "101153b8-fd25-468e-ccdc-baf3f0cbcc69"
      },
      "execution_count": null,
      "outputs": [
        {
          "output_type": "stream",
          "name": "stdout",
          "text": [
            "Collecting boto3\n",
            "  Downloading boto3-1.34.74-py3-none-any.whl (139 kB)\n",
            "\u001b[2K     \u001b[90m━━━━━━━━━━━━━━━━━━━━━━━━━━━━━━━━━━━━━━━━\u001b[0m \u001b[32m139.3/139.3 kB\u001b[0m \u001b[31m4.6 MB/s\u001b[0m eta \u001b[36m0:00:00\u001b[0m\n",
            "\u001b[?25hCollecting botocore<1.35.0,>=1.34.74 (from boto3)\n",
            "  Downloading botocore-1.34.74-py3-none-any.whl (12.1 MB)\n",
            "\u001b[2K     \u001b[90m━━━━━━━━━━━━━━━━━━━━━━━━━━━━━━━━━━━━━━━━\u001b[0m \u001b[32m12.1/12.1 MB\u001b[0m \u001b[31m36.1 MB/s\u001b[0m eta \u001b[36m0:00:00\u001b[0m\n",
            "\u001b[?25hCollecting jmespath<2.0.0,>=0.7.1 (from boto3)\n",
            "  Downloading jmespath-1.0.1-py3-none-any.whl (20 kB)\n",
            "Collecting s3transfer<0.11.0,>=0.10.0 (from boto3)\n",
            "  Downloading s3transfer-0.10.1-py3-none-any.whl (82 kB)\n",
            "\u001b[2K     \u001b[90m━━━━━━━━━━━━━━━━━━━━━━━━━━━━━━━━━━━━━━━━\u001b[0m \u001b[32m82.2/82.2 kB\u001b[0m \u001b[31m9.6 MB/s\u001b[0m eta \u001b[36m0:00:00\u001b[0m\n",
            "\u001b[?25hRequirement already satisfied: python-dateutil<3.0.0,>=2.1 in /usr/local/lib/python3.10/dist-packages (from botocore<1.35.0,>=1.34.74->boto3) (2.8.2)\n",
            "Requirement already satisfied: urllib3!=2.2.0,<3,>=1.25.4 in /usr/local/lib/python3.10/dist-packages (from botocore<1.35.0,>=1.34.74->boto3) (2.0.7)\n",
            "Requirement already satisfied: six>=1.5 in /usr/local/lib/python3.10/dist-packages (from python-dateutil<3.0.0,>=2.1->botocore<1.35.0,>=1.34.74->boto3) (1.16.0)\n",
            "Installing collected packages: jmespath, botocore, s3transfer, boto3\n",
            "Successfully installed boto3-1.34.74 botocore-1.34.74 jmespath-1.0.1 s3transfer-0.10.1\n"
          ]
        }
      ]
    },
    {
      "cell_type": "markdown",
      "source": [
        "# SQS insert"
      ],
      "metadata": {
        "id": "3UgGRnlYCx8c"
      }
    },
    {
      "cell_type": "code",
      "source": [
        "import time\n",
        "\n",
        "count = 0\n",
        "\n",
        "while True:\n",
        "  if count==60:\n",
        "    break\n",
        "  response = sqs_client.send_message(\n",
        "      QueueUrl=queue_url,\n",
        "      MessageBody=json.dumps(stock_data()))\n",
        "  count+=1\n",
        "  time.sleep(1)\n",
        "\n",
        "\n",
        "\n"
      ],
      "metadata": {
        "id": "ulce1q977a2t"
      },
      "execution_count": null,
      "outputs": []
    },
    {
      "cell_type": "markdown",
      "source": [
        "# Dynamo DB Upsert"
      ],
      "metadata": {
        "id": "kQp9FMhdZ_5i"
      }
    },
    {
      "cell_type": "code",
      "source": [
        "def upsert_item(table, update_values):\n",
        "    try:\n",
        "        response = table.update_item(\n",
        "            Key={'symbol':update_values['symbol']},\n",
        "            UpdateExpression='SET #attr1 = :val1, #attr2 = :val2, #attr3 = :val3',\n",
        "            ExpressionAttributeNames={\n",
        "                '#attr1': 'lastPrice',\n",
        "                '#attr2': 'dayHigh',\n",
        "                '#attr3': 'dayLow'\n",
        "            },\n",
        "            ExpressionAttributeValues={\n",
        "                ':val1': update_values['lastPrice'],\n",
        "                ':val2': update_values['dayHigh'],\n",
        "                ':val3': update_values['dayLow']\n",
        "            },\n",
        "            ReturnValues='UPDATED_NEW'\n",
        "        )\n",
        "        print(\"Item updated successfully:\", response)\n",
        "    except dynamodb.meta.client.exceptions.ResourceNotFoundException:\n",
        "        print(\"Item does not exist, inserting new item...\")\n",
        "        response = table.put_item(Item={\n",
        "            'symbol': update_values['symbol'],\n",
        "            'lastPrice': update_values['lastPrice'],\n",
        "            'dayHigh': update_values['dayHigh'],\n",
        "            'dayLow': update_values['dayLow']\n",
        "        })\n",
        "        print(\"New item inserted successfully:\", response)\n",
        "\n",
        "# # Define the key and values for the upsert operation\n",
        "# key = {'key_attribute': 'key_value'}\n",
        "# update_values = {'value1': 'new_value1', 'value2': 'new_value2'}\n",
        "\n",
        "def convert_numbers_to_strings(obj):\n",
        "    if isinstance(obj, (int,float)):\n",
        "        return str(obj)\n",
        "    return obj\n",
        "\n",
        "# Perform the upsert operation\n",
        "with open('test_data.json') as f:\n",
        "    message = json.load(f, parse_float=Decimal,object_hook=convert_numbers_to_strings)\n",
        "\n",
        "for eachgmsg in message[0]:\n",
        "  upsert_item(dbtable, eachgmsg)"
      ],
      "metadata": {
        "colab": {
          "base_uri": "https://localhost:8080/"
        },
        "id": "CnFF6RQ0f4dl",
        "outputId": "41da80d9-7d25-445d-bbbe-1b66007c2800"
      },
      "execution_count": null,
      "outputs": [
        {
          "output_type": "stream",
          "name": "stdout",
          "text": [
            "Item updated successfully: {'Attributes': {'dayLow': Decimal('1216.75'), 'dayHigh': Decimal('1268.9'), 'lastPrice': Decimal('0')}, 'ResponseMetadata': {'RequestId': 'FEDTTTSNL8LDMDRALVDQ204I23VV4KQNSO5AEMVJF66Q9ASUAAJG', 'HTTPStatusCode': 200, 'HTTPHeaders': {'server': 'Server', 'date': 'Mon, 11 Mar 2024 17:33:10 GMT', 'content-type': 'application/x-amz-json-1.0', 'content-length': '88', 'connection': 'keep-alive', 'x-amzn-requestid': 'FEDTTTSNL8LDMDRALVDQ204I23VV4KQNSO5AEMVJF66Q9ASUAAJG', 'x-amz-crc32': '347806035'}, 'RetryAttempts': 0}}\n",
            "Item updated successfully: {'Attributes': {'dayLow': Decimal('152.25'), 'dayHigh': Decimal('159.15'), 'lastPrice': Decimal('157.05')}, 'ResponseMetadata': {'RequestId': 'IVA9IDL0NH4RPBNJ89QQN84BJJVV4KQNSO5AEMVJF66Q9ASUAAJG', 'HTTPStatusCode': 200, 'HTTPHeaders': {'server': 'Server', 'date': 'Mon, 11 Mar 2024 17:33:10 GMT', 'content-type': 'application/x-amz-json-1.0', 'content-length': '92', 'connection': 'keep-alive', 'x-amzn-requestid': 'IVA9IDL0NH4RPBNJ89QQN84BJJVV4KQNSO5AEMVJF66Q9ASUAAJG', 'x-amz-crc32': '2364600831'}, 'RetryAttempts': 0}}\n",
            "Item updated successfully: {'Attributes': {'dayLow': Decimal('8500.05'), 'dayHigh': Decimal('8972.85'), 'lastPrice': Decimal('8875')}, 'ResponseMetadata': {'RequestId': 'JFQKRSR7GQI25KFLRNNR24A41FVV4KQNSO5AEMVJF66Q9ASUAAJG', 'HTTPStatusCode': 200, 'HTTPHeaders': {'server': 'Server', 'date': 'Mon, 11 Mar 2024 17:33:10 GMT', 'content-type': 'application/x-amz-json-1.0', 'content-length': '92', 'connection': 'keep-alive', 'x-amzn-requestid': 'JFQKRSR7GQI25KFLRNNR24A41FVV4KQNSO5AEMVJF66Q9ASUAAJG', 'x-amz-crc32': '1151430544'}, 'RetryAttempts': 0}}\n",
            "Item updated successfully: {'Attributes': {'dayLow': Decimal('474.85'), 'dayHigh': Decimal('485.95'), 'lastPrice': Decimal('483.25')}, 'ResponseMetadata': {'RequestId': 'I3TT9783H1NS3S7IS6QFORQBAFVV4KQNSO5AEMVJF66Q9ASUAAJG', 'HTTPStatusCode': 200, 'HTTPHeaders': {'server': 'Server', 'date': 'Mon, 11 Mar 2024 17:33:11 GMT', 'content-type': 'application/x-amz-json-1.0', 'content-length': '92', 'connection': 'keep-alive', 'x-amzn-requestid': 'I3TT9783H1NS3S7IS6QFORQBAFVV4KQNSO5AEMVJF66Q9ASUAAJG', 'x-amz-crc32': '3392129150'}, 'RetryAttempts': 0}}\n",
            "Item updated successfully: {'Attributes': {'dayLow': Decimal('818.05'), 'dayHigh': Decimal('844.9'), 'lastPrice': Decimal('829.95')}, 'ResponseMetadata': {'RequestId': 'CDS305K961V4O8AP89VIV932LJVV4KQNSO5AEMVJF66Q9ASUAAJG', 'HTTPStatusCode': 200, 'HTTPHeaders': {'server': 'Server', 'date': 'Mon, 11 Mar 2024 17:33:11 GMT', 'content-type': 'application/x-amz-json-1.0', 'content-length': '91', 'connection': 'keep-alive', 'x-amzn-requestid': 'CDS305K961V4O8AP89VIV932LJVV4KQNSO5AEMVJF66Q9ASUAAJG', 'x-amz-crc32': '1535294116'}, 'RetryAttempts': 0}}\n"
          ]
        }
      ]
    },
    {
      "cell_type": "markdown",
      "source": [
        "# AWS Lambda code"
      ],
      "metadata": {
        "id": "jmNqo63bK0Y5"
      }
    },
    {
      "cell_type": "code",
      "source": [
        "import json\n",
        "import boto3\n",
        "from decimal import Decimal\n",
        "import ast\n",
        "import datetime\n",
        "\n",
        "\n",
        "dynamodb = boto3.resource('dynamodb')\n",
        "\n",
        "dbtable = dynamodb.Table('rapid_api_db')\n",
        "\n",
        "def send_email(dbtable):\n",
        "    client = boto3.client(\"ses\")\n",
        "    response = dbtable.scan()\n",
        "    data = response['Items']\n",
        "\n",
        "    sub = 'New stocks data received!'\n",
        "    text = \"New stock data for Nifty has been successfully updated. Below is the latest data from DB. \\n \\n\"\n",
        "    keys = data[0].keys()\n",
        "\n",
        "\n",
        "    html = \"\"\"\n",
        "          <html>\n",
        "          <head>\n",
        "          <style>\n",
        "          table, th, td {\n",
        "            border: 1px solid black;\n",
        "            border-collapse: collapse;\n",
        "          }\n",
        "          </style>\n",
        "          </head>\n",
        "          <body>\n",
        "          <table>\"\"\"\n",
        "\n",
        "\n",
        "    html += \"<tr>\"\n",
        "    for key in keys:\n",
        "        html += f\"<th>{key}</th>\"\n",
        "    html += \"</tr>\"\n",
        "\n",
        "\n",
        "    for row in data:\n",
        "        html += \"<tr>\"\n",
        "        for key in keys:\n",
        "            html += f\"<td>{row[key]}</td>\"\n",
        "        html += \"</tr>\"\n",
        "\n",
        "\n",
        "    html += \"\"\"</table>\n",
        "                </body>\n",
        "                </html>\"\"\"\n",
        "    message = {\"Subject\": {\"Data\": sub}, \"Body\": {\"Html\": {\"Data\": text + html}}}\n",
        "    response = client.send_email(Source = \"####@gmail.com\",\n",
        "                   Destination = {\"ToAddresses\": [\"####@gmail.com\"]}, Message = message)\n",
        "\n",
        "\n",
        "\n",
        "def upsert_item(table, update_values):\n",
        "    try:\n",
        "        response = table.update_item(\n",
        "            Key={'symbol':update_values['symbol']},\n",
        "            UpdateExpression='SET #attr1 = :val1, #attr2 = :val2, #attr3 = :val3, #attr4 = :val4',\n",
        "            ExpressionAttributeNames={\n",
        "                '#attr1': 'lastPrice',\n",
        "                '#attr2': 'dayHigh',\n",
        "                '#attr3': 'dayLow',\n",
        "                '#attr4': 'UpdateDate'\n",
        "            },\n",
        "            ExpressionAttributeValues={\n",
        "                ':val1': update_values['lastPrice'],\n",
        "                ':val2': update_values['dayHigh'],\n",
        "                ':val3': update_values['dayLow'],\n",
        "                ':val4': str(datetime.datetime.now())\n",
        "            },\n",
        "            ReturnValues='UPDATED_NEW'\n",
        "        )\n",
        "        print(\"Item updated successfully:\", response)\n",
        "    except dynamodb.meta.client.exceptions.ResourceNotFoundException:\n",
        "        print(\"Item does not exist, inserting new item...\")\n",
        "        response = table.put_item(Item={\n",
        "            'symbol': update_values['symbol'],\n",
        "            'lastPrice': update_values['lastPrice'],\n",
        "            'dayHigh': update_values['dayHigh'],\n",
        "            'dayLow': update_values['dayLow'],\n",
        "            'UpdateDate': str(datetime.datetime.now())\n",
        "        })\n",
        "        #print(\"New item inserted successfully:\", response)\n",
        "\n",
        "def convert_numbers_to_strings(obj):\n",
        "    if isinstance(obj, (int,float)):\n",
        "        return str(obj)\n",
        "    return obj\n",
        "\n",
        "def lambda_handler(event, context):\n",
        "\n",
        "\n",
        "    records = event['Records']\n",
        "\n",
        "\n",
        "    list_msg = ast.literal_eval(records[0]['body'].replace(\"'\", \"\\\"\"))\n",
        "\n",
        "    for message in list_msg:\n",
        "        message_str = {key: str(value) for key, value in message.items()}\n",
        "        upsert_item(dbtable, message_str)\n",
        "\n",
        "    send_email(dbtable)"
      ],
      "metadata": {
        "id": "0-LSvwUsKzna"
      },
      "execution_count": null,
      "outputs": []
    },
    {
      "cell_type": "markdown",
      "source": [
        "# Dynamo get data"
      ],
      "metadata": {
        "id": "42mzLUP4cagI"
      }
    },
    {
      "cell_type": "code",
      "source": [
        "dynamodb = boto3.resource('dynamodb',region_name='ap-south-1',aws_access_key_id = access_key,aws_secret_access_key = secret_key)\n",
        "dbtable = dynamodb.Table('rapid_api_db')\n",
        "\n",
        "response = dbtable.scan()\n",
        "data = response['Items']\n",
        "\n",
        "print(data[0])"
      ],
      "metadata": {
        "colab": {
          "base_uri": "https://localhost:8080/"
        },
        "id": "YobsftOGcZ5Z",
        "outputId": "d54a838d-2b85-4235-f277-879dd8a4c5db"
      },
      "execution_count": null,
      "outputs": [
        {
          "output_type": "stream",
          "name": "stdout",
          "text": [
            "{'dayLow': '271.65', 'UpdateDate': '2024-03-29 07:59:49.646226', 'dayHigh': '279.5', 'symbol': 'POWERGRID', 'lastPrice': '277.35'}\n"
          ]
        }
      ]
    },
    {
      "cell_type": "code",
      "source": [
        "from tabulate import tabulate\n",
        "\n",
        "table = tabulate(data, headers='keys', tablefmt='grid')\n",
        "print(table)"
      ],
      "metadata": {
        "colab": {
          "base_uri": "https://localhost:8080/"
        },
        "id": "X6IkUVj0dG8K",
        "outputId": "9a2f6ee7-d9e9-4d7c-c563-cb2bcb21bee2"
      },
      "execution_count": null,
      "outputs": [
        {
          "output_type": "stream",
          "name": "stdout",
          "text": [
            "+----------+----------------------------+-----------+------------+-------------+\n",
            "|   dayLow | UpdateDate                 |   dayHigh | symbol     |   lastPrice |\n",
            "+==========+============================+===========+============+=============+\n",
            "|   271.65 | 2024-03-29 07:59:49.646226 |    279.5  | POWERGRID  |      277.35 |\n",
            "+----------+----------------------------+-----------+------------+-------------+\n",
            "|   430    | 2024-03-29 07:56:50.467543 |    438.45 | COALINDIA  |      433.95 |\n",
            "+----------+----------------------------+-----------+------------+-------------+\n",
            "|   597.6  | 2024-03-29 07:56:50.657615 |    611.25 | BPCL       |      604    |\n",
            "+----------+----------------------------+-----------+------------+-------------+\n",
            "|  1618.35 | 2024-03-17 10:45:50.800940 |   1645.8  | INFY       |     1631.45 |\n",
            "+----------+----------------------------+-----------+------------+-------------+\n",
            "|  9641.55 | 2024-03-29 07:56:50.837632 |   9853.95 | ULTRACEMCO |     9725    |\n",
            "+----------+----------------------------+-----------+------------+-------------+\n",
            "|   626.35 | 2024-03-29 07:56:35.707127 |    638.75 | HDFCLIFE   |      632.5  |\n",
            "+----------+----------------------------+-----------+------------+-------------+\n",
            "|   415.25 | 2024-03-17 10:45:50.263367 |    428.55 | ITC        |      417    |\n",
            "+----------+----------------------------+-----------+------------+-------------+\n",
            "|  1442.25 | 2024-03-17 10:45:54.497722 |   1459.3  | HDFCBANK   |     1454.7  |\n",
            "+----------+----------------------------+-----------+------------+-------------+\n",
            "|  1480    | 2024-03-29 07:57:16.217701 |   1521.85 | SBILIFE    |     1507.3  |\n",
            "+----------+----------------------------+-----------+------------+-------------+\n",
            "|  3367.05 | 2024-03-29 07:59:51.121226 |   3469.7  | DIVISLAB   |     3437    |\n",
            "+----------+----------------------------+-----------+------------+-------------+\n",
            "|  6078    | 2024-03-29 07:56:53.965582 |   6209.8  | DRREDDY    |     6140.55 |\n",
            "+----------+----------------------------+-----------+------------+-------------+\n",
            "|  1870.35 | 2024-03-29 07:57:03.977658 |   1962.95 | M&M        |     1915.35 |\n",
            "+----------+----------------------------+-----------+------------+-------------+\n",
            "|  3891.75 | 2024-03-29 07:59:49.598072 |   4075    | EICHERMOT  |     4026    |\n",
            "+----------+----------------------------+-----------+------------+-------------+\n",
            "|   261.95 | 2024-03-29 07:59:50.463583 |    271    | ONGC       |      268.5  |\n",
            "+----------+----------------------------+-----------+------------+-------------+\n",
            "|  3732.55 | 2024-03-29 07:56:50.757632 |   3838.3  | TITAN      |     3800    |\n",
            "+----------+----------------------------+-----------+------------+-------------+\n",
            "|  6112.5  | 2024-03-29 07:57:13.365695 |   6425.6  | APOLLOHOSP |     6348    |\n",
            "+----------+----------------------------+-----------+------------+-------------+\n",
            "|  7032.1  | 2024-03-29 07:59:49.186241 |   7349.3  | BAJFINANCE |     7235.05 |\n",
            "+----------+----------------------------+-----------+------------+-------------+\n",
            "|  3697.55 | 2024-03-29 07:56:54.005592 |   3813.35 | LT         |     3764.9  |\n",
            "+----------+----------------------------+-----------+------------+-------------+\n",
            "|  1774.2  | 2024-03-29 07:56:35.827260 |   1803.9  | KOTAKBANK  |     1789.95 |\n",
            "+----------+----------------------------+-----------+------------+-------------+\n",
            "|  4912    | 2024-03-17 10:45:53.600993 |   5008.7  | BRITANNIA  |     4955    |\n",
            "+----------+----------------------------+-----------+------------+-------------+\n",
            "|   517.5  | 2024-03-17 10:45:53.541133 |    534.05 | HINDALCO   |      531.35 |\n",
            "+----------+----------------------------+-----------+------------+-------------+\n",
            "|  8110    | 2024-03-17 10:45:49.961029 |   8432.1  | BAJAJ-AUTO |     8350    |\n",
            "+----------+----------------------------+-----------+------------+-------------+\n",
            "|  1588    | 2024-03-29 07:59:49.126386 |   1669    | BAJAJFINSV |     1647    |\n",
            "+----------+----------------------------+-----------+------------+-------------+\n",
            "|  1093.65 | 2024-03-29 07:56:35.807275 |   1109    | TATACONSUM |     1100    |\n",
            "+----------+----------------------------+-----------+------------+-------------+\n",
            "|  2210    | 2024-03-29 07:59:49.086719 |   2309.2  | GRASIM     |     2305    |\n",
            "+----------+----------------------------+-----------+------------+-------------+\n",
            "|  5170    | 2024-03-17 10:45:50.821004 |   5249.95 | LTIM       |     5186.95 |\n",
            "+----------+----------------------------+-----------+------------+-------------+\n",
            "|  1461.15 | 2024-03-29 07:59:50.726243 |   1514.2  | CIPLA      |     1496    |\n",
            "+----------+----------------------------+-----------+------------+-------------+\n",
            "|  1533.6  | 2024-03-29 07:56:50.817618 |   1564.5  | INDUSINDBK |     1549.75 |\n",
            "+----------+----------------------------+-----------+------------+-------------+\n",
            "|  2825.8  | 2024-03-17 10:45:50.301012 |   2866.45 | RELIANCE   |     2838    |\n",
            "+----------+----------------------------+-----------+------------+-------------+\n",
            "|   152.7  | 2024-03-29 07:59:50.708366 |    157    | TATASTEEL  |      156.2  |\n",
            "+----------+----------------------------+-----------+------------+-------------+\n",
            "|  2819    | 2024-03-29 07:56:35.747276 |   2868    | ASIANPAINT |     2856.65 |\n",
            "+----------+----------------------------+-----------+------------+-------------+\n",
            "| 22163.6  | 2024-03-29 07:59:48.540544 |  22516    | NIFTY 50   |    22326.9  |\n",
            "+----------+----------------------------+-----------+------------+-------------+\n",
            "|  4583.2  | 2024-03-29 07:59:49.146250 |   4750    | HEROMOTOCO |     4730    |\n",
            "+----------+----------------------------+-----------+------------+-------------+\n",
            "|   330.3  | 2024-03-29 07:56:55.657678 |    340    | NTPC       |      337.2  |\n",
            "+----------+----------------------------+-----------+------------+-------------+\n",
            "|   820    | 2024-03-29 07:57:32.734383 |    840.85 | JSWSTEEL   |      833.8  |\n",
            "+----------+----------------------------+-----------+------------+-------------+\n",
            "| 12385.5  | 2024-03-29 07:56:34.737260 |  12726.8  | MARUTI     |    12607    |\n",
            "+----------+----------------------------+-----------+------------+-------------+\n",
            "|   736.9  | 2024-03-29 07:59:49.626252 |    759.55 | SBIN       |      752.95 |\n",
            "+----------+----------------------------+-----------+------------+-------------+\n",
            "|  1030.25 | 2024-03-17 10:45:50.400993 |   1056.25 | AXISBANK   |     1048    |\n",
            "+----------+----------------------------+-----------+------------+-------------+\n",
            "|  1268.5  | 2024-03-17 10:45:50.580994 |   1293    | TECHM      |     1278.45 |\n",
            "+----------+----------------------------+-----------+------------+-------------+\n",
            "|  1220.3  | 2024-03-29 07:56:35.767258 |   1238.5  | BHARTIARTL |     1236    |\n",
            "+----------+----------------------------+-----------+------------+-------------+\n",
            "|  1607.95 | 2024-03-29 07:56:50.697606 |   1634    | SUNPHARMA  |     1627    |\n",
            "+----------+----------------------------+-----------+------------+-------------+\n",
            "|  3096.75 | 2024-03-29 07:59:50.506282 |   3237    | ADANIENT   |     3197    |\n",
            "+----------+----------------------------+-----------+------------+-------------+\n",
            "|  3840.5  | 2024-03-29 07:56:50.777633 |   3915    | TCS        |     3882.1  |\n",
            "+----------+----------------------------+-----------+------------+-------------+\n",
            "|   979    | 2024-03-29 07:56:55.697646 |    999.9  | TATAMOTORS |      995    |\n",
            "+----------+----------------------------+-----------+------------+-------------+\n",
            "|  1085    | 2024-03-29 07:56:50.717619 |   1105.05 | ICICIBANK  |     1096.05 |\n",
            "+----------+----------------------------+-----------+------------+-------------+\n",
            "|   459.45 | 2024-03-17 10:45:52.597186 |    477.5  | UPL        |      476.8  |\n",
            "+----------+----------------------------+-----------+------------+-------------+\n",
            "|  1314    | 2024-03-29 07:56:50.637609 |   1358.7  | ADANIPORTS |     1342.95 |\n",
            "+----------+----------------------------+-----------+------------+-------------+\n",
            "|  2240.1  | 2024-03-29 07:56:50.507499 |   2287.9  | HINDUNILVR |     2262    |\n",
            "+----------+----------------------------+-----------+------------+-------------+\n",
            "|  2567.05 | 2024-03-29 07:59:50.486256 |   2638.7  | NESTLEIND  |     2630.95 |\n",
            "+----------+----------------------------+-----------+------------+-------------+\n",
            "|  1642.85 | 2024-03-17 10:45:50.881049 |   1677    | HCLTECH    |     1648.6  |\n",
            "+----------+----------------------------+-----------+------------+-------------+\n",
            "|   475.3  | 2024-03-29 07:56:55.717666 |    483.05 | WIPRO      |      480    |\n",
            "+----------+----------------------------+-----------+------------+-------------+\n"
          ]
        }
      ]
    },
    {
      "cell_type": "code",
      "source": [
        "from prettytable import PrettyTable\n",
        "client_ses = boto3.client(\"ses\",region_name='ap-south-1',aws_access_key_id = access_key,aws_secret_access_key = secret_key)\n",
        "response = dbtable.scan()\n",
        "data = response['Items']\n",
        "table = PrettyTable()\n",
        "\n",
        "# Add column headers based on dictionary keys\n",
        "table.field_names = data[0].keys()\n",
        "\n",
        "# Add rows from the list of dictionaries\n",
        "for emp in data:\n",
        "    table.add_row(emp.values())\n",
        "\n",
        "subject = \"New stock data received\"\n",
        "body = f\"New stock data for Nifty has been successfully updated. Below is the latest data from DB. \\n \\n {table}\"\n",
        "message = {\"Subject\": {\"Data\": subject}, \"Body\": {\"Html\": {\"Data\": body}}}\n",
        "response = client_ses.send_email(Source = \"pradcence16@gmail.com\",\n",
        "               Destination = {\"ToAddresses\": [\"pradcence16@gmail.com\"]}, Message = message)"
      ],
      "metadata": {
        "id": "1e6E1jqzd6ru"
      },
      "execution_count": null,
      "outputs": []
    },
    {
      "cell_type": "code",
      "source": [
        "sub = 'New stocks data received!'\n",
        "text = \"New stock data for Nifty has been successfully updated. Below is the latest data from DB. \\n \\n\"\n",
        "keys = data[0].keys()\n",
        "\n",
        "\n",
        "html = \"\"\"\n",
        "      <html>\n",
        "      <head>\n",
        "      <style>\n",
        "      table, th, td {\n",
        "        border: 1px solid black;\n",
        "        border-collapse: collapse;\n",
        "      }\n",
        "      </style>\n",
        "      </head>\n",
        "      <body>\n",
        "      <table>\"\"\"\n",
        "\n",
        "\n",
        "html += \"<tr>\"\n",
        "for key in keys:\n",
        "    html += f\"<th>{key}</th>\"\n",
        "html += \"</tr>\"\n",
        "\n",
        "\n",
        "for row in data:\n",
        "    html += \"<tr>\"\n",
        "    for key in keys:\n",
        "        html += f\"<td>{row[key]}</td>\"\n",
        "    html += \"</tr>\"\n",
        "\n",
        "\n",
        "html += \"\"\"</table>\n",
        "            </body>\n",
        "            </html>\"\"\"\n",
        "\n",
        "message = {\"Subject\": {\"Data\": sub}, \"Body\": {\"Html\": {\"Data\": text + html}}}\n",
        "response = client_ses.send_email(Source = \"pradcence16@gmail.com\",\n",
        "               Destination = {\"ToAddresses\": [\"pradcence16@gmail.com\"]}, Message = message)"
      ],
      "metadata": {
        "id": "LkGozA0Hnzxi"
      },
      "execution_count": null,
      "outputs": []
    },
    {
      "cell_type": "code",
      "source": [],
      "metadata": {
        "id": "TNO0SG7-zkIh"
      },
      "execution_count": null,
      "outputs": []
    }
  ]
}